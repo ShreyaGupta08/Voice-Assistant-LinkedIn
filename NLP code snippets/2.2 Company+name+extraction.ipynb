{
 "cells": [
  {
   "cell_type": "code",
   "execution_count": 12,
   "metadata": {},
   "outputs": [
    {
     "name": "stdout",
     "output_type": "stream",
     "text": [
      "(ROOT\n",
      "  (NP\n",
      "    (NP (NNS sales))\n",
      "    (NP\n",
      "      (NP (NNS jobs))\n",
      "      (PP (IN at)\n",
      "        (NP (NNP LinkedIn))))))\n",
      "(0, 1, 0, 0, 0)\n",
      "jobs\n",
      "(0, 1, 0)\n",
      "['jobs']\n",
      "jobs\n"
     ]
    }
   ],
   "source": [
    "%run \"final position identifier.ipynb\""
   ]
  },
  {
   "cell_type": "code",
   "execution_count": 13,
   "metadata": {
    "collapsed": true
   },
   "outputs": [],
   "source": [
    "from nltk import pos_tag"
   ]
  },
  {
   "cell_type": "code",
   "execution_count": 14,
   "metadata": {},
   "outputs": [],
   "source": [
    "# if(position == \"\"):\n",
    "    #then execute this code"
   ]
  },
  {
   "cell_type": "code",
   "execution_count": 18,
   "metadata": {
    "collapsed": true
   },
   "outputs": [],
   "source": [
    "import nltk\n",
    "from nltk.tokenize import word_tokenize"
   ]
  },
  {
   "cell_type": "code",
   "execution_count": 19,
   "metadata": {},
   "outputs": [],
   "source": [
    "# perform ner tagging\n",
    "text = \"sales jobs at LinkedIn\""
   ]
  },
  {
   "cell_type": "code",
   "execution_count": 16,
   "metadata": {},
   "outputs": [
    {
     "name": "stdout",
     "output_type": "stream",
     "text": [
      "{'LinkedIn': 'ORGANIZATION'}\n"
     ]
    }
   ],
   "source": [
    "# tokenize\n",
    "words = word_tokenize(text)\n",
    "\n",
    "# pos tagging\n",
    "tagged = pos_tag(words)\n",
    "\n",
    "# chunking\n",
    "ne_chunked_sents = nltk.ne_chunk(tagged)\n",
    "\n",
    "named_entities = {}\n",
    "for tagged_tree in ne_chunked_sents:\n",
    "  if(hasattr(tagged_tree, 'label')):\n",
    "      entity_name = ' '.join(c[0] for c in tagged_tree.leaves()) #\n",
    "      entity_type = tagged_tree.label() # get NE category\n",
    "      named_entities[entity_name] = entity_type\n",
    "print(named_entities)"
   ]
  },
  {
   "cell_type": "code",
   "execution_count": 39,
   "metadata": {
    "collapsed": true
   },
   "outputs": [],
   "source": [
    "companyName = \"\"\n",
    "for key, val in named_entities.items():\n",
    "    if(val == 'ORGANIZATION'):\n",
    "        companyName = key\n",
    "        break"
   ]
  },
  {
   "cell_type": "code",
   "execution_count": 40,
   "metadata": {},
   "outputs": [
    {
     "data": {
      "text/plain": [
       "'LinkedIn'"
      ]
     },
     "execution_count": 40,
     "metadata": {},
     "output_type": "execute_result"
    }
   ],
   "source": [
    "companyName"
   ]
  },
  {
   "cell_type": "code",
   "execution_count": 41,
   "metadata": {},
   "outputs": [
    {
     "data": {
      "text/plain": [
       "[{'dep': 'ROOT',\n",
       "  'dependent': 1,\n",
       "  'dependentGloss': 'sales',\n",
       "  'governor': 0,\n",
       "  'governorGloss': 'ROOT'},\n",
       " {'dep': 'case',\n",
       "  'dependent': 2,\n",
       "  'dependentGloss': 'at',\n",
       "  'governor': 3,\n",
       "  'governorGloss': 'LinkedIn'},\n",
       " {'dep': 'nmod:at',\n",
       "  'dependent': 3,\n",
       "  'dependentGloss': 'LinkedIn',\n",
       "  'governor': 1,\n",
       "  'governorGloss': 'sales'}]"
      ]
     },
     "execution_count": 41,
     "metadata": {},
     "output_type": "execute_result"
    }
   ],
   "source": [
    "output['sentences'][0]['enhancedPlusPlusDependencies']"
   ]
  }
 ],
 "metadata": {
  "kernelspec": {
   "display_name": "Python 3",
   "language": "python",
   "name": "python3"
  },
  "language_info": {
   "codemirror_mode": {
    "name": "ipython",
    "version": 3
   },
   "file_extension": ".py",
   "mimetype": "text/x-python",
   "name": "python",
   "nbconvert_exporter": "python",
   "pygments_lexer": "ipython3",
   "version": "3.6.3"
  }
 },
 "nbformat": 4,
 "nbformat_minor": 2
}
