{
 "cells": [
  {
   "cell_type": "code",
   "execution_count": 1,
   "metadata": {
    "collapsed": true
   },
   "outputs": [],
   "source": [
    "# wget --post-data 'The quick brown fox jumped over the lazy dog.' 'localhost:9000/?properties={\"annotators\":\"tokenize,ssplit,pos\",\"outputFormat\":\"json\"}' -O -"
   ]
  },
  {
   "cell_type": "code",
   "execution_count": 2,
   "metadata": {
    "collapsed": true
   },
   "outputs": [],
   "source": [
    "# annotate [-h] [-i INPUT] [-o OUTPUT] [-f {json}]\n",
    "#                 [-a ANNOTATORS [ANNOTATORS ...]] [-s] [-v] [-m MEMORY]\n",
    "#                 [-p PROPS [PROPS ...]]"
   ]
  },
  {
   "cell_type": "code",
   "execution_count": 1,
   "metadata": {
    "collapsed": true
   },
   "outputs": [],
   "source": [
    "import os\n",
    "os.environ[\"CORENLP_HOME\"] = '/home/shreya\\stanford-corenlp-full-2018-02-27'\n",
    "\n",
    "from pycorenlp import StanfordCoreNLP\n",
    "nlp = StanfordCoreNLP('http://localhost:9000/')"
   ]
  },
  {
   "cell_type": "code",
   "execution_count": 2,
   "metadata": {
    "collapsed": true
   },
   "outputs": [],
   "source": [
    "text = (\n",
    "  'can you search for machine learning job openings at LinkedIn')"
   ]
  },
  {
   "cell_type": "code",
   "execution_count": 3,
   "metadata": {
    "collapsed": true
   },
   "outputs": [],
   "source": [
    "output = nlp.annotate( text, properties = { \n",
    "    'annotators' : 'tokenize, ssplit, pos, depparse, parse',\n",
    "    'outputFormat': 'json'})"
   ]
  },
  {
   "cell_type": "code",
   "execution_count": 4,
   "metadata": {},
   "outputs": [
    {
     "data": {
      "text/plain": [
       "dict_keys(['index', 'parse', 'basicDependencies', 'enhancedDependencies', 'enhancedPlusPlusDependencies', 'tokens'])"
      ]
     },
     "execution_count": 4,
     "metadata": {},
     "output_type": "execute_result"
    }
   ],
   "source": [
    "output['sentences'][0].keys()"
   ]
  },
  {
   "cell_type": "code",
   "execution_count": 5,
   "metadata": {},
   "outputs": [
    {
     "name": "stdout",
     "output_type": "stream",
     "text": [
      "(ROOT\n",
      "  (SINV (MD can)\n",
      "    (NP (PRP you))\n",
      "    (VP (VB search)\n",
      "      (PP (IN for)\n",
      "        (NP (NN machine) (NN learning) (NN job) (NNS openings)))\n",
      "      (PP (IN at)\n",
      "        (NP (NNP LinkedIn))))))\n"
     ]
    }
   ],
   "source": [
    "print(output['sentences'][0]['parse'])"
   ]
  },
  {
   "cell_type": "code",
   "execution_count": 6,
   "metadata": {
    "collapsed": true
   },
   "outputs": [],
   "source": [
    "tokens = output['sentences'][0]['tokens']\n",
    "lenDict = len(tokens)\n",
    "for idx, token in enumerate(tokens):\n",
    "    if(token['pos'] == 'NNP'):\n",
    "        ans = token['originalText']\n",
    "        while(idx + 1 < lenDict and tokens[idx + 1]['pos'] == 'NNP'):\n",
    "            ans = ans + \" \" + token['originalText']"
   ]
  },
  {
   "cell_type": "code",
   "execution_count": 7,
   "metadata": {},
   "outputs": [
    {
     "data": {
      "text/plain": [
       "'LinkedIn'"
      ]
     },
     "execution_count": 7,
     "metadata": {},
     "output_type": "execute_result"
    }
   ],
   "source": [
    "ans"
   ]
  },
  {
   "cell_type": "code",
   "execution_count": 8,
   "metadata": {},
   "outputs": [
    {
     "data": {
      "text/plain": [
       "{'basicDependencies': [{'dep': 'ROOT',\n",
       "   'dependent': 3,\n",
       "   'dependentGloss': 'search',\n",
       "   'governor': 0,\n",
       "   'governorGloss': 'ROOT'},\n",
       "  {'dep': 'aux',\n",
       "   'dependent': 1,\n",
       "   'dependentGloss': 'can',\n",
       "   'governor': 3,\n",
       "   'governorGloss': 'search'},\n",
       "  {'dep': 'nsubj',\n",
       "   'dependent': 2,\n",
       "   'dependentGloss': 'you',\n",
       "   'governor': 3,\n",
       "   'governorGloss': 'search'},\n",
       "  {'dep': 'case',\n",
       "   'dependent': 4,\n",
       "   'dependentGloss': 'for',\n",
       "   'governor': 8,\n",
       "   'governorGloss': 'openings'},\n",
       "  {'dep': 'compound',\n",
       "   'dependent': 5,\n",
       "   'dependentGloss': 'machine',\n",
       "   'governor': 8,\n",
       "   'governorGloss': 'openings'},\n",
       "  {'dep': 'compound',\n",
       "   'dependent': 6,\n",
       "   'dependentGloss': 'learning',\n",
       "   'governor': 8,\n",
       "   'governorGloss': 'openings'},\n",
       "  {'dep': 'compound',\n",
       "   'dependent': 7,\n",
       "   'dependentGloss': 'job',\n",
       "   'governor': 8,\n",
       "   'governorGloss': 'openings'},\n",
       "  {'dep': 'nmod',\n",
       "   'dependent': 8,\n",
       "   'dependentGloss': 'openings',\n",
       "   'governor': 3,\n",
       "   'governorGloss': 'search'},\n",
       "  {'dep': 'case',\n",
       "   'dependent': 9,\n",
       "   'dependentGloss': 'at',\n",
       "   'governor': 10,\n",
       "   'governorGloss': 'LinkedIn'},\n",
       "  {'dep': 'nmod',\n",
       "   'dependent': 10,\n",
       "   'dependentGloss': 'LinkedIn',\n",
       "   'governor': 3,\n",
       "   'governorGloss': 'search'}],\n",
       " 'enhancedDependencies': [{'dep': 'ROOT',\n",
       "   'dependent': 3,\n",
       "   'dependentGloss': 'search',\n",
       "   'governor': 0,\n",
       "   'governorGloss': 'ROOT'},\n",
       "  {'dep': 'aux',\n",
       "   'dependent': 1,\n",
       "   'dependentGloss': 'can',\n",
       "   'governor': 3,\n",
       "   'governorGloss': 'search'},\n",
       "  {'dep': 'nsubj',\n",
       "   'dependent': 2,\n",
       "   'dependentGloss': 'you',\n",
       "   'governor': 3,\n",
       "   'governorGloss': 'search'},\n",
       "  {'dep': 'case',\n",
       "   'dependent': 4,\n",
       "   'dependentGloss': 'for',\n",
       "   'governor': 8,\n",
       "   'governorGloss': 'openings'},\n",
       "  {'dep': 'compound',\n",
       "   'dependent': 5,\n",
       "   'dependentGloss': 'machine',\n",
       "   'governor': 8,\n",
       "   'governorGloss': 'openings'},\n",
       "  {'dep': 'compound',\n",
       "   'dependent': 6,\n",
       "   'dependentGloss': 'learning',\n",
       "   'governor': 8,\n",
       "   'governorGloss': 'openings'},\n",
       "  {'dep': 'compound',\n",
       "   'dependent': 7,\n",
       "   'dependentGloss': 'job',\n",
       "   'governor': 8,\n",
       "   'governorGloss': 'openings'},\n",
       "  {'dep': 'nmod:for',\n",
       "   'dependent': 8,\n",
       "   'dependentGloss': 'openings',\n",
       "   'governor': 3,\n",
       "   'governorGloss': 'search'},\n",
       "  {'dep': 'case',\n",
       "   'dependent': 9,\n",
       "   'dependentGloss': 'at',\n",
       "   'governor': 10,\n",
       "   'governorGloss': 'LinkedIn'},\n",
       "  {'dep': 'nmod:at',\n",
       "   'dependent': 10,\n",
       "   'dependentGloss': 'LinkedIn',\n",
       "   'governor': 3,\n",
       "   'governorGloss': 'search'}],\n",
       " 'enhancedPlusPlusDependencies': [{'dep': 'ROOT',\n",
       "   'dependent': 3,\n",
       "   'dependentGloss': 'search',\n",
       "   'governor': 0,\n",
       "   'governorGloss': 'ROOT'},\n",
       "  {'dep': 'aux',\n",
       "   'dependent': 1,\n",
       "   'dependentGloss': 'can',\n",
       "   'governor': 3,\n",
       "   'governorGloss': 'search'},\n",
       "  {'dep': 'nsubj',\n",
       "   'dependent': 2,\n",
       "   'dependentGloss': 'you',\n",
       "   'governor': 3,\n",
       "   'governorGloss': 'search'},\n",
       "  {'dep': 'case',\n",
       "   'dependent': 4,\n",
       "   'dependentGloss': 'for',\n",
       "   'governor': 8,\n",
       "   'governorGloss': 'openings'},\n",
       "  {'dep': 'compound',\n",
       "   'dependent': 5,\n",
       "   'dependentGloss': 'machine',\n",
       "   'governor': 8,\n",
       "   'governorGloss': 'openings'},\n",
       "  {'dep': 'compound',\n",
       "   'dependent': 6,\n",
       "   'dependentGloss': 'learning',\n",
       "   'governor': 8,\n",
       "   'governorGloss': 'openings'},\n",
       "  {'dep': 'compound',\n",
       "   'dependent': 7,\n",
       "   'dependentGloss': 'job',\n",
       "   'governor': 8,\n",
       "   'governorGloss': 'openings'},\n",
       "  {'dep': 'nmod:for',\n",
       "   'dependent': 8,\n",
       "   'dependentGloss': 'openings',\n",
       "   'governor': 3,\n",
       "   'governorGloss': 'search'},\n",
       "  {'dep': 'case',\n",
       "   'dependent': 9,\n",
       "   'dependentGloss': 'at',\n",
       "   'governor': 10,\n",
       "   'governorGloss': 'LinkedIn'},\n",
       "  {'dep': 'nmod:at',\n",
       "   'dependent': 10,\n",
       "   'dependentGloss': 'LinkedIn',\n",
       "   'governor': 3,\n",
       "   'governorGloss': 'search'}],\n",
       " 'index': 0,\n",
       " 'parse': '(ROOT\\n  (SINV (MD can)\\n    (NP (PRP you))\\n    (VP (VB search)\\n      (PP (IN for)\\n        (NP (NN machine) (NN learning) (NN job) (NNS openings)))\\n      (PP (IN at)\\n        (NP (NNP LinkedIn))))))',\n",
       " 'tokens': [{'after': ' ',\n",
       "   'before': '',\n",
       "   'characterOffsetBegin': 0,\n",
       "   'characterOffsetEnd': 3,\n",
       "   'index': 1,\n",
       "   'originalText': 'can',\n",
       "   'pos': 'MD',\n",
       "   'word': 'can'},\n",
       "  {'after': ' ',\n",
       "   'before': ' ',\n",
       "   'characterOffsetBegin': 4,\n",
       "   'characterOffsetEnd': 7,\n",
       "   'index': 2,\n",
       "   'originalText': 'you',\n",
       "   'pos': 'PRP',\n",
       "   'word': 'you'},\n",
       "  {'after': ' ',\n",
       "   'before': ' ',\n",
       "   'characterOffsetBegin': 8,\n",
       "   'characterOffsetEnd': 14,\n",
       "   'index': 3,\n",
       "   'originalText': 'search',\n",
       "   'pos': 'VB',\n",
       "   'word': 'search'},\n",
       "  {'after': ' ',\n",
       "   'before': ' ',\n",
       "   'characterOffsetBegin': 15,\n",
       "   'characterOffsetEnd': 18,\n",
       "   'index': 4,\n",
       "   'originalText': 'for',\n",
       "   'pos': 'IN',\n",
       "   'word': 'for'},\n",
       "  {'after': ' ',\n",
       "   'before': ' ',\n",
       "   'characterOffsetBegin': 19,\n",
       "   'characterOffsetEnd': 26,\n",
       "   'index': 5,\n",
       "   'originalText': 'machine',\n",
       "   'pos': 'NN',\n",
       "   'word': 'machine'},\n",
       "  {'after': ' ',\n",
       "   'before': ' ',\n",
       "   'characterOffsetBegin': 27,\n",
       "   'characterOffsetEnd': 35,\n",
       "   'index': 6,\n",
       "   'originalText': 'learning',\n",
       "   'pos': 'NN',\n",
       "   'word': 'learning'},\n",
       "  {'after': ' ',\n",
       "   'before': ' ',\n",
       "   'characterOffsetBegin': 36,\n",
       "   'characterOffsetEnd': 39,\n",
       "   'index': 7,\n",
       "   'originalText': 'job',\n",
       "   'pos': 'NN',\n",
       "   'word': 'job'},\n",
       "  {'after': ' ',\n",
       "   'before': ' ',\n",
       "   'characterOffsetBegin': 40,\n",
       "   'characterOffsetEnd': 48,\n",
       "   'index': 8,\n",
       "   'originalText': 'openings',\n",
       "   'pos': 'NNS',\n",
       "   'word': 'openings'},\n",
       "  {'after': ' ',\n",
       "   'before': ' ',\n",
       "   'characterOffsetBegin': 49,\n",
       "   'characterOffsetEnd': 51,\n",
       "   'index': 9,\n",
       "   'originalText': 'at',\n",
       "   'pos': 'IN',\n",
       "   'word': 'at'},\n",
       "  {'after': '',\n",
       "   'before': ' ',\n",
       "   'characterOffsetBegin': 52,\n",
       "   'characterOffsetEnd': 60,\n",
       "   'index': 10,\n",
       "   'originalText': 'LinkedIn',\n",
       "   'pos': 'NNP',\n",
       "   'word': 'LinkedIn'}]}"
      ]
     },
     "execution_count": 8,
     "metadata": {},
     "output_type": "execute_result"
    }
   ],
   "source": [
    "output['sentences'][0]"
   ]
  },
  {
   "cell_type": "code",
   "execution_count": 9,
   "metadata": {},
   "outputs": [
    {
     "name": "stdout",
     "output_type": "stream",
     "text": [
      "(ROOT\n",
      "  (SINV (MD can)\n",
      "    (NP (PRP you))\n",
      "    (VP (VB search)\n",
      "      (PP (IN for)\n",
      "        (NP (NN machine) (NN learning) (NN job) (NNS openings)))\n",
      "      (PP (IN at)\n",
      "        (NP (NNP LinkedIn))))))\n"
     ]
    }
   ],
   "source": [
    "depTreeStr = output['sentences'][0]['parse']\n",
    "print(depTreeStr)"
   ]
  },
  {
   "cell_type": "code",
   "execution_count": 27,
   "metadata": {
    "collapsed": true
   },
   "outputs": [],
   "source": [
    "# import spacy\n",
    "# from spacy.symbols import nsubj, VERB\n",
    "\n",
    "# nlp = spacy.load('en_core_web_sm')\n",
    "# doc = nlp('search for machine learning job openings at LinkedIn')\n",
    "\n",
    "# for token in doc:\n",
    "#     print(tok.text for toc in token.lefts)\n",
    "\n",
    "# # print([token.text for token in doc.lefts])"
   ]
  },
  {
   "cell_type": "code",
   "execution_count": 10,
   "metadata": {
    "collapsed": true
   },
   "outputs": [],
   "source": [
    "import nltk\n",
    "from nltk.tree import Tree"
   ]
  },
  {
   "cell_type": "code",
   "execution_count": 14,
   "metadata": {
    "collapsed": true
   },
   "outputs": [],
   "source": [
    "# dir(Tree)\n",
    "# help(Tree.fromstring)"
   ]
  },
  {
   "cell_type": "code",
   "execution_count": 11,
   "metadata": {},
   "outputs": [
    {
     "data": {
      "image/png": "[encoded data removed]",
      "text/plain": [
       "Tree('ROOT', [Tree('SINV', [Tree('MD', ['can']), Tree('NP', [Tree('PRP', ['you'])]), Tree('VP', [Tree('VB', ['search']), Tree('PP', [Tree('IN', ['for']), Tree('NP', [Tree('NN', ['machine']), Tree('NN', ['learning']), Tree('NN', ['job']), Tree('NNS', ['openings'])])]), Tree('PP', [Tree('IN', ['at']), Tree('NP', [Tree('NNP', ['LinkedIn'])])])])])])"
      ]
     },
     "execution_count": 11,
     "metadata": {},
     "output_type": "execute_result"
    }
   ],
   "source": [
    "depTree = Tree.fromstring(depTreeStr)\n",
    "depTree"
   ]
  },
  {
   "cell_type": "markdown",
   "metadata": {},
   "source": [
    "findsubtree(root)\n",
    "    for each child of the root node, check if the leaf == operation (search/add):\n",
    "        if(yes):\n",
    "            return the parent of the child\n",
    "\n",
    "parent = findsubtree(ptree)\n",
    "nchildren = findchildren(parent)\n",
    "if(nchildren <= 2):\n",
    "    position = \"\"\n",
    "else:\n",
    "    for each child in parent:\n",
    "        if any word is synoymous to job/opening:\n",
    "            return the parent of this subtree"
   ]
  },
  {
   "cell_type": "markdown",
   "metadata": {},
   "source": [
    "### for each leaf node, if it is synonymous to job/opening, return the parent node.\n",
    "find words dependent on job/opening and return "
   ]
  },
  {
   "cell_type": "code",
   "execution_count": 23,
   "metadata": {},
   "outputs": [],
   "source": [
    "# find synonyms to job, openings, positions\n",
    "from LinkedIn_Operation_identification import findSynonyms"
   ]
  },
  {
   "cell_type": "code",
   "execution_count": 53,
   "metadata": {
    "collapsed": true
   },
   "outputs": [],
   "source": [
    "synJob = findSynonyms('job')\n",
    "JobSyn = []\n",
    "for syn in synJob:\n",
    "    if syn not in JobSyn:\n",
    "        JobSyn.append(syn)\n",
    "\n",
    "# JobSyn\n",
    "\n",
    "synOpen = findSynonyms('openings')\n",
    "OpenSyn = ['opening']\n",
    "for syn in synOpen:\n",
    "    if syn not in OpenSyn:\n",
    "        OpenSyn.append(syn)\n",
    "\n",
    "# OpenSyn\n",
    "\n",
    "synPos = findSynonyms('position')\n",
    "PosSyn = []\n",
    "for syn in synPos:\n",
    "    if syn not in PosSyn:\n",
    "        PosSyn.append(syn)\n",
    "\n",
    "# PosSyn"
   ]
  },
  {
   "cell_type": "code",
   "execution_count": 54,
   "metadata": {},
   "outputs": [
    {
     "data": {
      "text/plain": [
       "['opening', 'openings', 'Doors', 'ora', 'pore', 'crowd', 'space']"
      ]
     },
     "execution_count": 54,
     "metadata": {},
     "output_type": "execute_result"
    }
   ],
   "source": [
    "OpenSyn"
   ]
  },
  {
   "cell_type": "code",
   "execution_count": 16,
   "metadata": {
    "collapsed": true
   },
   "outputs": [],
   "source": [
    "# dir(depTree)\n",
    "# dir(depTree.subtrees())"
   ]
  },
  {
   "cell_type": "code",
   "execution_count": 17,
   "metadata": {
    "collapsed": true
   },
   "outputs": [],
   "source": [
    "sub = depTree.subtrees()"
   ]
  },
  {
   "cell_type": "code",
   "execution_count": 18,
   "metadata": {
    "collapsed": true
   },
   "outputs": [],
   "source": [
    "from nltk.tree import ParentedTree\n",
    "ptree = ParentedTree.fromstring(depTreeStr)"
   ]
  },
  {
   "cell_type": "code",
   "execution_count": 58,
   "metadata": {},
   "outputs": [
    {
     "name": "stdout",
     "output_type": "stream",
     "text": [
      "(0, 2, 1, 1, 3, 0)\n",
      "openings\n"
     ]
    }
   ],
   "source": [
    "leaf_values = ptree.leaves()\n",
    "\n",
    "for word in OpenSyn:\n",
    "    if word in leaf_values:\n",
    "        leaf_index = leaf_values.index(word)\n",
    "        tree_location = ptree.leaf_treeposition(leaf_index)\n",
    "        print (tree_location)\n",
    "        print (ptree[tree_location])\n",
    "        break"
   ]
  },
  {
   "cell_type": "code",
   "execution_count": 61,
   "metadata": {},
   "outputs": [
    {
     "data": {
      "text/plain": [
       "(0, 2, 1, 1)"
      ]
     },
     "execution_count": 61,
     "metadata": {},
     "output_type": "execute_result"
    }
   ],
   "source": [
    "treeLoc = tree_location[:-2]\n",
    "treeLoc"
   ]
  },
  {
   "cell_type": "code",
   "execution_count": 66,
   "metadata": {},
   "outputs": [
    {
     "data": {
      "image/png": "[encoded data removed]",
      "text/plain": [
       "ParentedTree('NP', [ParentedTree('NN', ['machine']), ParentedTree('NN', ['learning']), ParentedTree('NN', ['job']), ParentedTree('NNS', ['openings'])])"
      ]
     },
     "execution_count": 66,
     "metadata": {},
     "output_type": "execute_result"
    }
   ],
   "source": [
    "subtree = ptree[treeLoc]\n",
    "subtree"
   ]
  },
  {
   "cell_type": "code",
   "execution_count": 69,
   "metadata": {},
   "outputs": [
    {
     "data": {
      "text/plain": [
       "['machine', 'learning', 'job', 'openings']"
      ]
     },
     "execution_count": 69,
     "metadata": {},
     "output_type": "execute_result"
    }
   ],
   "source": [
    "childNodes = subtree.leaves()\n",
    "childNodes"
   ]
  },
  {
   "cell_type": "code",
   "execution_count": 72,
   "metadata": {},
   "outputs": [
    {
     "data": {
      "text/plain": [
       "'machine learning job openings'"
      ]
     },
     "execution_count": 72,
     "metadata": {},
     "output_type": "execute_result"
    }
   ],
   "source": [
    "position = (\" \".join(childNodes))\n",
    "position"
   ]
  },
  {
   "cell_type": "code",
   "execution_count": 15,
   "metadata": {
    "collapsed": true
   },
   "outputs": [],
   "source": [
    "def findNchildren(ptree):\n",
    "    nchild = 0\n",
    "    for tree in ptree:\n",
    "        for child in tree:\n",
    "            nchild += 1\n",
    "    return nchild"
   ]
  },
  {
   "cell_type": "code",
   "execution_count": 62,
   "metadata": {
    "collapsed": true
   },
   "outputs": [],
   "source": [
    "# # print(ptree.label())\n",
    "# nchildren = 0\n",
    "# for tr in ptree:\n",
    "#     for sub in tr:\n",
    "#         print(sub)\n",
    "#         nchildren += 1\n",
    "#     print(\"\\n\")\n",
    "    \n",
    "# nchildren"
   ]
  },
  {
   "cell_type": "code",
   "execution_count": 76,
   "metadata": {},
   "outputs": [
    {
     "name": "stdout",
     "output_type": "stream",
     "text": [
      "3\n"
     ]
    }
   ],
   "source": [
    "nchildren = findNchildren(ptree)\n",
    "# if nchildren <= 2 => only operation and name exists, find nothing\n",
    "\n",
    "# if(nchildren > 2):\n",
    "print(nchildren)\n"
   ]
  },
  {
   "cell_type": "code",
   "execution_count": 32,
   "metadata": {},
   "outputs": [
    {
     "name": "stdout",
     "output_type": "stream",
     "text": [
      "<class 'nltk.tree.Tree'>\n",
      "(FRAG\n",
      "  (NP (NN search))\n",
      "  (PP\n",
      "    (IN for)\n",
      "    (NP (NN machine) (NN learning) (NN job) (NNS openings)))\n",
      "  (PP (IN at) (NP (NNP LinkedIn))))\n",
      "\n",
      "\n",
      "<class 'nltk.tree.Tree'>\n",
      "(NP (NN search))\n",
      "<class 'nltk.tree.Tree'>\n",
      "(PP (IN for) (NP (NN machine) (NN learning) (NN job) (NNS openings)))\n",
      "<class 'nltk.tree.Tree'>\n",
      "(PP (IN at) (NP (NNP LinkedIn)))\n",
      "\n",
      "\n",
      "<class 'nltk.tree.Tree'>\n",
      "(NN search)\n",
      "\n",
      "\n",
      "<class 'str'>\n",
      "search\n",
      "\n",
      "\n",
      "<class 'nltk.tree.Tree'>\n",
      "(IN for)\n",
      "<class 'nltk.tree.Tree'>\n",
      "(NP (NN machine) (NN learning) (NN job) (NNS openings))\n",
      "\n",
      "\n",
      "<class 'str'>\n",
      "for\n",
      "\n",
      "\n",
      "<class 'nltk.tree.Tree'>\n",
      "(NN machine)\n",
      "<class 'nltk.tree.Tree'>\n",
      "(NN learning)\n",
      "<class 'nltk.tree.Tree'>\n",
      "(NN job)\n",
      "<class 'nltk.tree.Tree'>\n",
      "(NNS openings)\n",
      "\n",
      "\n",
      "<class 'str'>\n",
      "machine\n",
      "\n",
      "\n",
      "<class 'str'>\n",
      "learning\n",
      "\n",
      "\n",
      "<class 'str'>\n",
      "job\n",
      "\n",
      "\n",
      "<class 'str'>\n",
      "openings\n",
      "\n",
      "\n",
      "<class 'nltk.tree.Tree'>\n",
      "(IN at)\n",
      "<class 'nltk.tree.Tree'>\n",
      "(NP (NNP LinkedIn))\n",
      "\n",
      "\n",
      "<class 'str'>\n",
      "at\n",
      "\n",
      "\n",
      "<class 'nltk.tree.Tree'>\n",
      "(NNP LinkedIn)\n",
      "\n",
      "\n",
      "<class 'str'>\n",
      "LinkedIn\n",
      "\n",
      "\n"
     ]
    }
   ],
   "source": [
    "for tr in sub:\n",
    "    subT = tr\n",
    "    for s in subT:\n",
    "        print(type(s))\n",
    "        print(s)\n",
    "    print(\"\\n\")"
   ]
  }
 ],
 "metadata": {
  "kernelspec": {
   "display_name": "Python 3",
   "language": "python",
   "name": "python3"
  },
  "language_info": {
   "codemirror_mode": {
    "name": "ipython",
    "version": 3
   },
   "file_extension": ".py",
   "mimetype": "text/x-python",
   "name": "python",
   "nbconvert_exporter": "python",
   "pygments_lexer": "ipython3",
   "version": "3.6.3"
  }
 },
 "nbformat": 4,
 "nbformat_minor": 2
}
