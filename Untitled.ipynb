{
 "cells": [
  {
   "cell_type": "code",
   "execution_count": 3,
   "metadata": {},
   "outputs": [
    {
     "name": "stdout",
     "output_type": "stream",
     "text": [
      "(ROOT\n",
      "  (NP (NN search) (NN LinkedIn)))\n",
      "[]\n"
     ]
    }
   ],
   "source": [
    "%run \"final position identifier.ipynb\""
   ]
  },
  {
   "cell_type": "code",
   "execution_count": 12,
   "metadata": {
    "collapsed": true
   },
   "outputs": [],
   "source": [
    "from nltk import pos_tag\n",
    "from nltk import RegexpChunkParser"
   ]
  },
  {
   "cell_type": "code",
   "execution_count": 7,
   "metadata": {},
   "outputs": [
    {
     "name": "stdout",
     "output_type": "stream",
     "text": [
      "LOl\n"
     ]
    }
   ],
   "source": [
    "if(position == \"\"):\n",
    "    print(\"LOl\")"
   ]
  },
  {
   "cell_type": "code",
   "execution_count": 8,
   "metadata": {},
   "outputs": [
    {
     "data": {
      "text/plain": [
       "'search LinkedIn'"
      ]
     },
     "execution_count": 8,
     "metadata": {},
     "output_type": "execute_result"
    }
   ],
   "source": [
    "# perform ner tagging\n",
    "text"
   ]
  },
  {
   "cell_type": "code",
   "execution_count": 21,
   "metadata": {},
   "outputs": [
    {
     "name": "stdout",
     "output_type": "stream",
     "text": [
      "{'LinkedIn': 'ORGANIZATION'}\n"
     ]
    }
   ],
   "source": [
    "# tokenize\n",
    "words = word_tokenize(text)\n",
    "\n",
    "# pos tagging\n",
    "tagged = pos_tag(words)\n",
    "\n",
    "# chunking\n",
    "ne_chunked_sents = nltk.ne_chunk(tagged)\n",
    "\n",
    "named_entities = {}\n",
    "for tagged_tree in ne_chunked_sents:\n",
    "  if(hasattr(tagged_tree, 'label')):\n",
    "      entity_name = ' '.join(c[0] for c in tagged_tree.leaves()) #\n",
    "      entity_type = tagged_tree.label() # get NE category\n",
    "      named_entities[entity_name] = entity_type\n",
    "print(named_entities)"
   ]
  },
  {
   "cell_type": "code",
   "execution_count": 26,
   "metadata": {},
   "outputs": [
    {
     "name": "stdout",
     "output_type": "stream",
     "text": [
      "LinkedIn\n"
     ]
    }
   ],
   "source": [
    "companyName = \"\"\n",
    "for idx, cur in enumerate(named_entities.keys()):\n",
    "    if(cur == 'ORGANIZATION'):\n",
    "        companyName = "
   ]
  }
 ],
 "metadata": {
  "kernelspec": {
   "display_name": "Python 3",
   "language": "python",
   "name": "python3"
  },
  "language_info": {
   "codemirror_mode": {
    "name": "ipython",
    "version": 3
   },
   "file_extension": ".py",
   "mimetype": "text/x-python",
   "name": "python",
   "nbconvert_exporter": "python",
   "pygments_lexer": "ipython3",
   "version": "3.6.3"
  }
 },
 "nbformat": 4,
 "nbformat_minor": 2
}
