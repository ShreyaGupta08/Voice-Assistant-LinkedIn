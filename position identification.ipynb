{
 "cells": [
  {
   "cell_type": "code",
   "execution_count": 1,
   "metadata": {},
   "outputs": [],
   "source": [
    "# wget --post-data 'The quick brown fox jumped over the lazy dog.' 'localhost:9000/?properties={\"annotators\":\"tokenize,ssplit,pos\",\"outputFormat\":\"json\"}' -O -"
   ]
  },
  {
   "cell_type": "code",
   "execution_count": 2,
   "metadata": {
    "collapsed": true
   },
   "outputs": [],
   "source": [
    "# annotate [-h] [-i INPUT] [-o OUTPUT] [-f {json}]\n",
    "#                 [-a ANNOTATORS [ANNOTATORS ...]] [-s] [-v] [-m MEMORY]\n",
    "#                 [-p PROPS [PROPS ...]]"
   ]
  },
  {
   "cell_type": "code",
   "execution_count": 3,
   "metadata": {
    "collapsed": true
   },
   "outputs": [],
   "source": [
    "import os"
   ]
  },
  {
   "cell_type": "code",
   "execution_count": 4,
   "metadata": {
    "collapsed": true
   },
   "outputs": [],
   "source": [
    "os.environ[\"CORENLP_HOME\"] = '/home/shreya\\stanford-corenlp-full-2018-02-27'"
   ]
  },
  {
   "cell_type": "code",
   "execution_count": 5,
   "metadata": {
    "collapsed": true
   },
   "outputs": [],
   "source": [
    "from pycorenlp import StanfordCoreNLP"
   ]
  },
  {
   "cell_type": "code",
   "execution_count": 6,
   "metadata": {
    "collapsed": true
   },
   "outputs": [],
   "source": [
    "nlp = StanfordCoreNLP('http://localhost:9000/')"
   ]
  },
  {
   "cell_type": "code",
   "execution_count": 7,
   "metadata": {
    "collapsed": true
   },
   "outputs": [],
   "source": [
    "text = (\n",
    "  'search for machine learning job openings at LinkedIn')"
   ]
  },
  {
   "cell_type": "code",
   "execution_count": 8,
   "metadata": {},
   "outputs": [],
   "source": [
    "output = nlp.annotate( text, properties = { \n",
    "    'annotators' : 'tokenize, ssplit, pos, depparse, parse',\n",
    "    'outputFormat': 'json'})"
   ]
  },
  {
   "cell_type": "code",
   "execution_count": 9,
   "metadata": {},
   "outputs": [
    {
     "data": {
      "text/plain": [
       "dict_keys(['index', 'parse', 'basicDependencies', 'enhancedDependencies', 'enhancedPlusPlusDependencies', 'tokens'])"
      ]
     },
     "execution_count": 9,
     "metadata": {},
     "output_type": "execute_result"
    }
   ],
   "source": [
    "output['sentences'][0].keys()"
   ]
  },
  {
   "cell_type": "code",
   "execution_count": 10,
   "metadata": {},
   "outputs": [
    {
     "name": "stdout",
     "output_type": "stream",
     "text": [
      "(ROOT\n",
      "  (FRAG\n",
      "    (NP (NN search))\n",
      "    (PP (IN for)\n",
      "      (NP (NN machine) (NN learning) (NN job) (NNS openings)))\n",
      "    (PP (IN at)\n",
      "      (NP (NNP LinkedIn)))))\n"
     ]
    }
   ],
   "source": [
    "print(output['sentences'][0]['parse'])"
   ]
  },
  {
   "cell_type": "code",
   "execution_count": 11,
   "metadata": {
    "collapsed": true
   },
   "outputs": [],
   "source": [
    "# output"
   ]
  },
  {
   "cell_type": "code",
   "execution_count": 34,
   "metadata": {},
   "outputs": [],
   "source": [
    "# output['sentences'][0]"
   ]
  },
  {
   "cell_type": "code",
   "execution_count": 13,
   "metadata": {},
   "outputs": [
    {
     "data": {
      "text/plain": [
       "'(ROOT\\n  (FRAG\\n    (NP (NN search))\\n    (PP (IN for)\\n      (NP (NN machine) (NN learning) (NN job) (NNS openings)))\\n    (PP (IN at)\\n      (NP (NNP LinkedIn)))))'"
      ]
     },
     "execution_count": 13,
     "metadata": {},
     "output_type": "execute_result"
    }
   ],
   "source": [
    "depTreeStr = output['sentences'][0]['parse']\n",
    "depTreeStr"
   ]
  },
  {
   "cell_type": "code",
   "execution_count": 14,
   "metadata": {
    "collapsed": true
   },
   "outputs": [],
   "source": [
    "# import spacy\n",
    "# from spacy.symbols import nsubj, VERB\n",
    "\n",
    "# nlp = spacy.load('en_core_web_sm')\n",
    "# doc = nlp('search for machine learning job openings at LinkedIn')\n",
    "\n",
    "# for token in doc:\n",
    "#     print(tok.text for toc in token.lefts)\n",
    "\n",
    "# # print([token.text for token in doc.lefts])"
   ]
  },
  {
   "cell_type": "code",
   "execution_count": 15,
   "metadata": {
    "collapsed": true
   },
   "outputs": [],
   "source": [
    "import nltk\n",
    "from nltk.tree import Tree\n",
    "# from nltk.draw.tree import draw_trees"
   ]
  },
  {
   "cell_type": "code",
   "execution_count": 33,
   "metadata": {},
   "outputs": [],
   "source": [
    "# dir(Tree)\n",
    "# help(Tree.fromstring)"
   ]
  },
  {
   "cell_type": "code",
   "execution_count": 17,
   "metadata": {},
   "outputs": [
    {
     "data": {
      "image/png": "[encoded data removed]",
      "text/plain": [
       "Tree('ROOT', [Tree('FRAG', [Tree('NP', [Tree('NN', ['search'])]), Tree('PP', [Tree('IN', ['for']), Tree('NP', [Tree('NN', ['machine']), Tree('NN', ['learning']), Tree('NN', ['job']), Tree('NNS', ['openings'])])]), Tree('PP', [Tree('IN', ['at']), Tree('NP', [Tree('NNP', ['LinkedIn'])])])])])"
      ]
     },
     "execution_count": 17,
     "metadata": {},
     "output_type": "execute_result"
    }
   ],
   "source": [
    "depTree = Tree.fromstring(depTreeStr)\n",
    "depTree"
   ]
  },
  {
   "cell_type": "code",
   "execution_count": 28,
   "metadata": {},
   "outputs": [
    {
     "data": {
      "text/plain": [
       "['__add__',\n",
       " '__class__',\n",
       " '__contains__',\n",
       " '__delattr__',\n",
       " '__delitem__',\n",
       " '__dict__',\n",
       " '__dir__',\n",
       " '__doc__',\n",
       " '__eq__',\n",
       " '__format__',\n",
       " '__ge__',\n",
       " '__getattribute__',\n",
       " '__getitem__',\n",
       " '__gt__',\n",
       " '__hash__',\n",
       " '__iadd__',\n",
       " '__imul__',\n",
       " '__init__',\n",
       " '__init_subclass__',\n",
       " '__iter__',\n",
       " '__le__',\n",
       " '__len__',\n",
       " '__lt__',\n",
       " '__module__',\n",
       " '__mul__',\n",
       " '__ne__',\n",
       " '__new__',\n",
       " '__radd__',\n",
       " '__reduce__',\n",
       " '__reduce_ex__',\n",
       " '__repr__',\n",
       " '__reversed__',\n",
       " '__rmul__',\n",
       " '__setattr__',\n",
       " '__setitem__',\n",
       " '__sizeof__',\n",
       " '__str__',\n",
       " '__subclasshook__',\n",
       " '__unicode__',\n",
       " '__weakref__',\n",
       " '_frozen_class',\n",
       " '_get_node',\n",
       " '_label',\n",
       " '_parse_error',\n",
       " '_pformat_flat',\n",
       " '_repr_png_',\n",
       " '_set_node',\n",
       " 'append',\n",
       " 'chomsky_normal_form',\n",
       " 'clear',\n",
       " 'collapse_unary',\n",
       " 'convert',\n",
       " 'copy',\n",
       " 'count',\n",
       " 'draw',\n",
       " 'extend',\n",
       " 'flatten',\n",
       " 'freeze',\n",
       " 'fromstring',\n",
       " 'height',\n",
       " 'index',\n",
       " 'insert',\n",
       " 'label',\n",
       " 'leaf_treeposition',\n",
       " 'leaves',\n",
       " 'node',\n",
       " 'pformat',\n",
       " 'pformat_latex_qtree',\n",
       " 'pop',\n",
       " 'pos',\n",
       " 'pprint',\n",
       " 'pretty_print',\n",
       " 'productions',\n",
       " 'remove',\n",
       " 'reverse',\n",
       " 'set_label',\n",
       " 'sort',\n",
       " 'subtrees',\n",
       " 'treeposition_spanning_leaves',\n",
       " 'treepositions',\n",
       " 'un_chomsky_normal_form',\n",
       " 'unicode_repr']"
      ]
     },
     "execution_count": 28,
     "metadata": {},
     "output_type": "execute_result"
    }
   ],
   "source": [
    "dir(depTree)"
   ]
  },
  {
   "cell_type": "code",
   "execution_count": 30,
   "metadata": {},
   "outputs": [],
   "source": [
    "# dir(depTree.subtrees())"
   ]
  },
  {
   "cell_type": "code",
   "execution_count": 26,
   "metadata": {},
   "outputs": [],
   "source": [
    "sub = depTree.subtrees()"
   ]
  },
  {
   "cell_type": "code",
   "execution_count": 27,
   "metadata": {},
   "outputs": [
    {
     "name": "stdout",
     "output_type": "stream",
     "text": [
      "<class 'nltk.tree.Tree'>\n",
      "(FRAG\n",
      "  (NP (NN search))\n",
      "  (PP\n",
      "    (IN for)\n",
      "    (NP (NN machine) (NN learning) (NN job) (NNS openings)))\n",
      "  (PP (IN at) (NP (NNP LinkedIn))))\n",
      "\n",
      "\n",
      "<class 'nltk.tree.Tree'>\n",
      "(NP (NN search))\n",
      "<class 'nltk.tree.Tree'>\n",
      "(PP (IN for) (NP (NN machine) (NN learning) (NN job) (NNS openings)))\n",
      "<class 'nltk.tree.Tree'>\n",
      "(PP (IN at) (NP (NNP LinkedIn)))\n",
      "\n",
      "\n",
      "<class 'nltk.tree.Tree'>\n",
      "(NN search)\n",
      "\n",
      "\n",
      "<class 'str'>\n",
      "search\n",
      "\n",
      "\n",
      "<class 'nltk.tree.Tree'>\n",
      "(IN for)\n",
      "<class 'nltk.tree.Tree'>\n",
      "(NP (NN machine) (NN learning) (NN job) (NNS openings))\n",
      "\n",
      "\n",
      "<class 'str'>\n",
      "for\n",
      "\n",
      "\n",
      "<class 'nltk.tree.Tree'>\n",
      "(NN machine)\n",
      "<class 'nltk.tree.Tree'>\n",
      "(NN learning)\n",
      "<class 'nltk.tree.Tree'>\n",
      "(NN job)\n",
      "<class 'nltk.tree.Tree'>\n",
      "(NNS openings)\n",
      "\n",
      "\n",
      "<class 'str'>\n",
      "machine\n",
      "\n",
      "\n",
      "<class 'str'>\n",
      "learning\n",
      "\n",
      "\n",
      "<class 'str'>\n",
      "job\n",
      "\n",
      "\n",
      "<class 'str'>\n",
      "openings\n",
      "\n",
      "\n",
      "<class 'nltk.tree.Tree'>\n",
      "(IN at)\n",
      "<class 'nltk.tree.Tree'>\n",
      "(NP (NNP LinkedIn))\n",
      "\n",
      "\n",
      "<class 'str'>\n",
      "at\n",
      "\n",
      "\n",
      "<class 'nltk.tree.Tree'>\n",
      "(NNP LinkedIn)\n",
      "\n",
      "\n",
      "<class 'str'>\n",
      "LinkedIn\n",
      "\n",
      "\n"
     ]
    }
   ],
   "source": [
    "for tr in sub:\n",
    "    subT = tr\n",
    "    for s in subT:\n",
    "        print(type(s))\n",
    "        print(s)\n",
    "    print(\"\\n\")"
   ]
  }
 ],
 "metadata": {
  "kernelspec": {
   "display_name": "Python 3",
   "language": "python",
   "name": "python3"
  },
  "language_info": {
   "codemirror_mode": {
    "name": "ipython",
    "version": 3
   },
   "file_extension": ".py",
   "mimetype": "text/x-python",
   "name": "python",
   "nbconvert_exporter": "python",
   "pygments_lexer": "ipython3",
   "version": "3.6.3"
  }
 },
 "nbformat": 4,
 "nbformat_minor": 2
}
