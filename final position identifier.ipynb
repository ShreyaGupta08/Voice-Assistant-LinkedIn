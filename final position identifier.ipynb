{
 "cells": [
  {
   "cell_type": "code",
   "execution_count": 38,
   "metadata": {
    "collapsed": true
   },
   "outputs": [],
   "source": [
    "import nltk\n",
    "from nltk.tokenize import word_tokenize\n",
    "from nltk.tree import Tree\n",
    "from nltk.stem import PorterStemmer\n",
    "\n",
    "from LinkedIn_Operation_identification import findSynonyms"
   ]
  },
  {
   "cell_type": "code",
   "execution_count": 95,
   "metadata": {},
   "outputs": [
    {
     "name": "stdout",
     "output_type": "stream",
     "text": [
      "['job', 'Jobs', 'Most men', 'interview', 'work', 'jobsian', 'jobs', 'Many women', 'Surgeons', 'wissenschafterin', 'wissenschafter', 'Some jobs', \"Workaholics' lives\", 'casting agent', 'совместительство', '乔布斯', '喬布斯']\n",
      "['opening', 'openings', 'Doors', 'ora', 'pore', 'crowd', 'space']\n",
      "['position', 'وَقْفَة', 'rank', 'academicianship', 'accountantship', 'admiralty', 'ambassadorship', 'angular position', 'anomaly', 'anteriority', 'apostleship', 'apprenticeship', 'asana', 'associateship', 'attorneyship', 'back', 'bailiffship', 'ballet position', 'baronetage', \"bird's eye view\"]\n"
     ]
    }
   ],
   "source": [
    "synJob = findSynonyms('jobs')\n",
    "JobSyn = ['job']\n",
    "for syn in synJob:\n",
    "    if syn not in JobSyn:\n",
    "        JobSyn.append(syn)\n",
    "\n",
    "print(JobSyn)\n",
    "\n",
    "synOpen = findSynonyms('openings')\n",
    "OpenSyn = ['opening']\n",
    "for syn in synOpen:\n",
    "    if syn not in OpenSyn:\n",
    "        OpenSyn.append(syn)\n",
    "\n",
    "print(OpenSyn)\n",
    "\n",
    "synPos = findSynonyms('position')\n",
    "PosSyn = ['position']\n",
    "for syn in synPos:\n",
    "    if syn not in PosSyn:\n",
    "        PosSyn.append(syn)\n",
    "\n",
    "print(PosSyn)"
   ]
  },
  {
   "cell_type": "code",
   "execution_count": 12,
   "metadata": {
    "collapsed": true
   },
   "outputs": [],
   "source": [
    "import os\n",
    "os.environ[\"CORENLP_HOME\"] = '/home/shreya\\stanford-corenlp-full-2018-02-27'\n",
    "\n",
    "from pycorenlp import StanfordCoreNLP\n",
    "nlp = StanfordCoreNLP('http://localhost:9000/')"
   ]
  },
  {
   "cell_type": "code",
   "execution_count": 108,
   "metadata": {
    "collapsed": true
   },
   "outputs": [],
   "source": [
    "def stemming(text):\n",
    "    ps = PorterStemmer()\n",
    "\n",
    "    w = word_tokenize(text)\n",
    "    tempword = \"\"\n",
    "    for index, every in enumerate(w):\n",
    "        tempword = tempword + (ps.stem(every))\n",
    "        if (index != len(w) - 1):\n",
    "            tempword = tempword + \" \"\n",
    "\n",
    "    return tempword"
   ]
  },
  {
   "cell_type": "code",
   "execution_count": 97,
   "metadata": {},
   "outputs": [],
   "source": [
    "text = ('search for senior software developer job openings at LinkedIn')\n",
    "# text = stemming(text)\n",
    "\n",
    "output = nlp.annotate( text, properties = { \n",
    "    'annotators' : 'tokenize, ssplit, pos, depparse, parse',\n",
    "    'outputFormat': 'json'})"
   ]
  },
  {
   "cell_type": "code",
   "execution_count": 98,
   "metadata": {},
   "outputs": [
    {
     "name": "stdout",
     "output_type": "stream",
     "text": [
      "(ROOT\n",
      "  (NP\n",
      "    (NP (NN search))\n",
      "    (PP (IN for)\n",
      "      (NP\n",
      "        (NP (JJ senior) (NN software) (NN developer) (NN job) (NNS openings))\n",
      "        (PP (IN at)\n",
      "          (NP (NNP LinkedIn)))))))\n"
     ]
    }
   ],
   "source": [
    "depTreeStr = output['sentences'][0]['parse']\n",
    "print(depTreeStr)"
   ]
  },
  {
   "cell_type": "code",
   "execution_count": 99,
   "metadata": {},
   "outputs": [
    {
     "data": {
      "image/png": "[encoded data removed]",
      "text/plain": [
       "ParentedTree('ROOT', [ParentedTree('NP', [ParentedTree('NP', [ParentedTree('NN', ['search'])]), ParentedTree('PP', [ParentedTree('IN', ['for']), ParentedTree('NP', [ParentedTree('NP', [ParentedTree('JJ', ['senior']), ParentedTree('NN', ['software']), ParentedTree('NN', ['developer']), ParentedTree('NN', ['job']), ParentedTree('NNS', ['openings'])]), ParentedTree('PP', [ParentedTree('IN', ['at']), ParentedTree('NP', [ParentedTree('NNP', ['LinkedIn'])])])])])])])"
      ]
     },
     "execution_count": 99,
     "metadata": {},
     "output_type": "execute_result"
    }
   ],
   "source": [
    "from nltk.tree import ParentedTree\n",
    "ptree = ParentedTree.fromstring(depTreeStr)\n",
    "ptree"
   ]
  },
  {
   "cell_type": "code",
   "execution_count": 100,
   "metadata": {},
   "outputs": [
    {
     "name": "stdout",
     "output_type": "stream",
     "text": [
      "(0, 1, 1, 0, 4, 0)\n",
      "openings\n"
     ]
    }
   ],
   "source": [
    "leaf_values = ptree.leaves()\n",
    "\n",
    "tree_location = []\n",
    "flag = 0\n",
    "for word in OpenSyn:\n",
    "    if word in leaf_values:\n",
    "        leaf_index = leaf_values.index(word)\n",
    "        tree_location = ptree.leaf_treeposition(leaf_index)\n",
    "        print (tree_location)\n",
    "        print (ptree[tree_location])\n",
    "        flag = 1\n",
    "        break\n",
    "if(flag == 0):\n",
    "    for word in PosSyn:\n",
    "        if word in leaf_values:\n",
    "            leaf_index = leaf_values.index(word)\n",
    "            tree_location = ptree.leaf_treeposition(leaf_index)\n",
    "            print (tree_location)\n",
    "            print (ptree[tree_location])\n",
    "            flag = 2\n",
    "            break\n",
    "if(flag == 0):\n",
    "    for word in JobSyn:\n",
    "        if word in leaf_values:\n",
    "            leaf_index = leaf_values.index(word)\n",
    "            tree_location = ptree.leaf_treeposition(leaf_index)\n",
    "            print (tree_location)\n",
    "            print (ptree[tree_location])\n",
    "            flag = 3\n",
    "            break"
   ]
  },
  {
   "cell_type": "code",
   "execution_count": 106,
   "metadata": {},
   "outputs": [
    {
     "name": "stdout",
     "output_type": "stream",
     "text": [
      "(0, 1, 1, 0)\n",
      "['senior', 'software', 'developer', 'job', 'openings']\n",
      "senior software developer job openings\n"
     ]
    },
    {
     "data": {
      "image/png": "[encoded data removed]",
      "text/plain": [
       "ParentedTree('NP', [ParentedTree('JJ', ['senior']), ParentedTree('NN', ['software']), ParentedTree('NN', ['developer']), ParentedTree('NN', ['job']), ParentedTree('NNS', ['openings'])])"
      ]
     },
     "execution_count": 106,
     "metadata": {},
     "output_type": "execute_result"
    }
   ],
   "source": [
    "treeLoc = tree_location[:-2]\n",
    "print(treeLoc)\n",
    "\n",
    "if(treeLoc != []):\n",
    "    subtree = ptree[treeLoc]\n",
    "\n",
    "    childNodes = subtree.leaves()\n",
    "    print(childNodes)\n",
    "\n",
    "    position = (\" \".join(childNodes))\n",
    "    print(position)\n",
    "    \n",
    "\n",
    "subtree"
   ]
  },
  {
   "cell_type": "code",
   "execution_count": 107,
   "metadata": {},
   "outputs": [
    {
     "data": {
      "text/plain": [
       "'senior software developer job openings'"
      ]
     },
     "execution_count": 107,
     "metadata": {},
     "output_type": "execute_result"
    }
   ],
   "source": [
    "position"
   ]
  }
 ],
 "metadata": {
  "kernelspec": {
   "display_name": "Python 3",
   "language": "python",
   "name": "python3"
  },
  "language_info": {
   "codemirror_mode": {
    "name": "ipython",
    "version": 3
   },
   "file_extension": ".py",
   "mimetype": "text/x-python",
   "name": "python",
   "nbconvert_exporter": "python",
   "pygments_lexer": "ipython3",
   "version": "3.6.3"
  }
 },
 "nbformat": 4,
 "nbformat_minor": 2
}
