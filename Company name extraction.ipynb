{
 "cells": [
  {
   "cell_type": "markdown",
   "metadata": {},
   "source": [
    "## This code finds the name of the company if there is no designation"
   ]
  },
  {
   "cell_type": "code",
   "execution_count": 34,
   "metadata": {},
   "outputs": [
    {
     "name": "stdout",
     "output_type": "stream",
     "text": [
      "(ROOT\n",
      "  (NP\n",
      "    (NP (NNS sales))\n",
      "    (PP (IN at)\n",
      "      (NP (NNP LinkedIn)))))\n",
      "[]\n"
     ]
    }
   ],
   "source": [
    "%run \"final position identifier.ipynb\""
   ]
  },
  {
   "cell_type": "code",
   "execution_count": 1,
   "metadata": {
    "collapsed": true
   },
   "outputs": [],
   "source": [
    "from nltk import pos_tag"
   ]
  },
  {
   "cell_type": "code",
   "execution_count": 36,
   "metadata": {},
   "outputs": [
    {
     "name": "stdout",
     "output_type": "stream",
     "text": [
      "LOl\n"
     ]
    }
   ],
   "source": [
    "if(position == \"\"):\n",
    "    #then execute this code"
   ]
  },
  {
   "cell_type": "code",
   "execution_count": 37,
   "metadata": {},
   "outputs": [
    {
     "data": {
      "text/plain": [
       "'sales at LinkedIn'"
      ]
     },
     "execution_count": 37,
     "metadata": {},
     "output_type": "execute_result"
    }
   ],
   "source": [
    "# perform ner tagging\n",
    "text"
   ]
  },
  {
   "cell_type": "code",
   "execution_count": 38,
   "metadata": {},
   "outputs": [
    {
     "name": "stdout",
     "output_type": "stream",
     "text": [
      "{'LinkedIn': 'ORGANIZATION'}\n"
     ]
    }
   ],
   "source": [
    "# tokenize\n",
    "words = word_tokenize(text)\n",
    "\n",
    "# pos tagging\n",
    "tagged = pos_tag(words)\n",
    "\n",
    "# chunking\n",
    "ne_chunked_sents = nltk.ne_chunk(tagged)\n",
    "\n",
    "named_entities = {}\n",
    "for tagged_tree in ne_chunked_sents:\n",
    "  if(hasattr(tagged_tree, 'label')):\n",
    "      entity_name = ' '.join(c[0] for c in tagged_tree.leaves()) #\n",
    "      entity_type = tagged_tree.label() # get NE category\n",
    "      named_entities[entity_name] = entity_type\n",
    "print(named_entities)"
   ]
  },
  {
   "cell_type": "code",
   "execution_count": 39,
   "metadata": {
    "collapsed": true
   },
   "outputs": [],
   "source": [
    "companyName = \"\"\n",
    "for key, val in named_entities.items():\n",
    "    if(val == 'ORGANIZATION'):\n",
    "        companyName = key\n",
    "        break"
   ]
  },
  {
   "cell_type": "code",
   "execution_count": 40,
   "metadata": {},
   "outputs": [
    {
     "data": {
      "text/plain": [
       "'LinkedIn'"
      ]
     },
     "execution_count": 40,
     "metadata": {},
     "output_type": "execute_result"
    }
   ],
   "source": [
    "companyName"
   ]
  },
  {
   "cell_type": "code",
   "execution_count": 41,
   "metadata": {},
   "outputs": [
    {
     "data": {
      "text/plain": [
       "[{'dep': 'ROOT',\n",
       "  'dependent': 1,\n",
       "  'dependentGloss': 'sales',\n",
       "  'governor': 0,\n",
       "  'governorGloss': 'ROOT'},\n",
       " {'dep': 'case',\n",
       "  'dependent': 2,\n",
       "  'dependentGloss': 'at',\n",
       "  'governor': 3,\n",
       "  'governorGloss': 'LinkedIn'},\n",
       " {'dep': 'nmod:at',\n",
       "  'dependent': 3,\n",
       "  'dependentGloss': 'LinkedIn',\n",
       "  'governor': 1,\n",
       "  'governorGloss': 'sales'}]"
      ]
     },
     "execution_count": 41,
     "metadata": {},
     "output_type": "execute_result"
    }
   ],
   "source": [
    "output['sentences'][0]['enhancedPlusPlusDependencies']"
   ]
  }
 ],
 "metadata": {
  "kernelspec": {
   "display_name": "Python 3",
   "language": "python",
   "name": "python3"
  },
  "language_info": {
   "codemirror_mode": {
    "name": "ipython",
    "version": 3
   },
   "file_extension": ".py",
   "mimetype": "text/x-python",
   "name": "python",
   "nbconvert_exporter": "python",
   "pygments_lexer": "ipython3",
   "version": "3.6.3"
  }
 },
 "nbformat": 4,
 "nbformat_minor": 2
}
