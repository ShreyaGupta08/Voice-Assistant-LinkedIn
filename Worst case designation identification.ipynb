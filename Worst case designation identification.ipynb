{
 "cells": [
  {
   "cell_type": "markdown",
   "metadata": {},
   "source": [
    "1. operation identifications => remove\n",
    "2. NER => remove orgnaizations, names, locations\n",
    "3. remove stop words\n",
    "4. tokenize => return"
   ]
  },
  {
   "cell_type": "code",
   "execution_count": 54,
   "metadata": {
    "collapsed": true
   },
   "outputs": [],
   "source": [
    "# operation identification\n",
    "%run \"LinkedIn_Operation_identification.ipynb\"\n",
    "\n",
    "import nltk\n",
    "from nltk import word_tokenize, pos_tag, ne_chunk\n",
    "\n",
    "def Design(string):\n",
    "    tokenized = word_tokenize(string)\n",
    "    # tokenized\n",
    "\n",
    "    firstRefine = \"\"\n",
    "    for word in tokenized:\n",
    "        flag = 0\n",
    "        for cur in synWord:\n",
    "            if(word in cur):\n",
    "                flag = 1\n",
    "                break\n",
    "        if(flag == 0):\n",
    "            firstRefine += word + \" \"\n",
    "\n",
    "    # firstRefine\n",
    "\n",
    "    tokenized = word_tokenize(firstRefine)\n",
    "\n",
    "    # NER tagging and removing\n",
    "    tagged = pos_tag(tokenized)\n",
    "\n",
    "    # chunking\n",
    "    ne_chunked_sents = ne_chunk(tagged)\n",
    "\n",
    "    named_entities = {}\n",
    "    for tagged_tree in ne_chunked_sents:\n",
    "      if(hasattr(tagged_tree, 'label')):\n",
    "          entity_name = ' '.join(c[0] for c in tagged_tree.leaves()) #\n",
    "          entity_type = tagged_tree.label() # get NE category\n",
    "          named_entities[entity_name] = entity_type\n",
    "#     print(named_entities)\n",
    "\n",
    "    secondRefine = \" \".join([w for w in tokenized if w not in named_entities.keys()])\n",
    "    # secondRefine\n",
    "\n",
    "    tokenized = word_tokenize(secondRefine)\n",
    "\n",
    "    stopwrds = set(stopwords.words(\"english\"))\n",
    "    thirdRefine = \" \". join([w for w in tokenized if w not in stopwrds])\n",
    "\n",
    "    # thirdRefine\n",
    "\n",
    "    tokenized = word_tokenize(thirdRefine)\n",
    "    return tokenized"
   ]
  },
  {
   "cell_type": "code",
   "execution_count": 56,
   "metadata": {},
   "outputs": [
    {
     "data": {
      "text/plain": [
       "['sales']"
      ]
     },
     "execution_count": 56,
     "metadata": {},
     "output_type": "execute_result"
    }
   ],
   "source": [
    "string = \"search for sales at Amazon\"\n",
    "tokens = Design(string)\n",
    "tokens"
   ]
  }
 ],
 "metadata": {
  "kernelspec": {
   "display_name": "Python 3",
   "language": "python",
   "name": "python3"
  },
  "language_info": {
   "codemirror_mode": {
    "name": "ipython",
    "version": 3
   },
   "file_extension": ".py",
   "mimetype": "text/x-python",
   "name": "python",
   "nbconvert_exporter": "python",
   "pygments_lexer": "ipython3",
   "version": "3.6.3"
  }
 },
 "nbformat": 4,
 "nbformat_minor": 2
}
