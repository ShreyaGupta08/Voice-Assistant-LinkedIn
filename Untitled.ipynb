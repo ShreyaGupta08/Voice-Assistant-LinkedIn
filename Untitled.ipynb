{
 "cells": [
  {
   "cell_type": "code",
   "execution_count": 38,
   "metadata": {
    "collapsed": true
   },
   "outputs": [],
   "source": [
    "import nltk\n",
    "from nltk.tokenize import word_tokenize\n",
    "from nltk.tree import Tree\n",
    "from nltk.stem import PorterStemmer\n",
    "\n",
    "from LinkedIn_Operation_identification import findSynonyms"
   ]
  },
  {
   "cell_type": "code",
   "execution_count": 54,
   "metadata": {},
   "outputs": [],
   "source": [
    "synJob = findSynonyms('job')\n",
    "JobSyn = ['job']\n",
    "for syn in synJob:\n",
    "    if syn not in JobSyn:\n",
    "        JobSyn.append(syn)\n",
    "\n",
    "# JobSyn\n",
    "\n",
    "synOpen = findSynonyms('opening')\n",
    "OpenSyn = ['opening']\n",
    "for syn in synOpen:\n",
    "    if syn not in OpenSyn:\n",
    "        OpenSyn.append(syn)\n",
    "\n",
    "# OpenSyn\n",
    "\n",
    "synPos = findSynonyms('position')\n",
    "PosSyn = ['position']\n",
    "for syn in synPos:\n",
    "    if syn not in PosSyn:\n",
    "        PosSyn.append(syn)\n",
    "\n",
    "# PosSyn"
   ]
  },
  {
   "cell_type": "code",
   "execution_count": 12,
   "metadata": {
    "collapsed": true
   },
   "outputs": [],
   "source": [
    "import os\n",
    "os.environ[\"CORENLP_HOME\"] = '/home/shreya\\stanford-corenlp-full-2018-02-27'\n",
    "\n",
    "from pycorenlp import StanfordCoreNLP\n",
    "nlp = StanfordCoreNLP('http://localhost:9000/')"
   ]
  },
  {
   "cell_type": "code",
   "execution_count": 56,
   "metadata": {
    "collapsed": true
   },
   "outputs": [],
   "source": [
    "text = ('search for jobs at LinkedIn')\n",
    "\n",
    "output = nlp.annotate( text, properties = { \n",
    "    'annotators' : 'tokenize, ssplit, pos, depparse, parse',\n",
    "    'outputFormat': 'json'})"
   ]
  },
  {
   "cell_type": "code",
   "execution_count": 57,
   "metadata": {
    "collapsed": true
   },
   "outputs": [],
   "source": [
    "def stemming(text):\n",
    "    ps = PorterStemmer()\n",
    "\n",
    "    # Stemming\n",
    "    StemmedSynWord = []\n",
    "#     for idx, w in enumerate(synWord):\n",
    "    w = word_tokenize(text)\n",
    "    tempword = \"\"\n",
    "    for index, every in enumerate(w):\n",
    "        tempword = tempword + (ps.stem(every))\n",
    "        if (index != len(w) - 1):\n",
    "            tempword = tempword + \" \"\n",
    "    if(tempword not in StemmedSynWord):\n",
    "        StemmedSynWord.append(tempword)\n",
    "\n",
    "    return StemmedSynWord"
   ]
  },
  {
   "cell_type": "code",
   "execution_count": 58,
   "metadata": {},
   "outputs": [
    {
     "data": {
      "text/plain": [
       "['search for job at linkedin']"
      ]
     },
     "execution_count": 58,
     "metadata": {},
     "output_type": "execute_result"
    }
   ],
   "source": [
    "text = stemming(text)\n",
    "text"
   ]
  },
  {
   "cell_type": "code",
   "execution_count": 59,
   "metadata": {},
   "outputs": [
    {
     "name": "stdout",
     "output_type": "stream",
     "text": [
      "(ROOT\n",
      "  (NP\n",
      "    (NP (NN search))\n",
      "    (PP (IN for)\n",
      "      (NP\n",
      "        (NP (NNS jobs))\n",
      "        (PP (IN at)\n",
      "          (NP (NNP LinkedIn)))))))\n"
     ]
    }
   ],
   "source": [
    "depTreeStr = output['sentences'][0]['parse']\n",
    "print(depTreeStr)"
   ]
  },
  {
   "cell_type": "code",
   "execution_count": 60,
   "metadata": {
    "collapsed": true
   },
   "outputs": [],
   "source": [
    "from nltk.tree import ParentedTree\n",
    "ptree = ParentedTree.fromstring(depTreeStr)"
   ]
  },
  {
   "cell_type": "code",
   "execution_count": 61,
   "metadata": {},
   "outputs": [],
   "source": [
    "leaf_values = ptree.leaves()\n",
    "\n",
    "tree_location = []\n",
    "flag = 0\n",
    "for word in OpenSyn:\n",
    "    if word in leaf_values:\n",
    "        leaf_index = leaf_values.index(word)\n",
    "        tree_location = ptree.leaf_treeposition(leaf_index)\n",
    "        print (tree_location)\n",
    "        print (ptree[tree_location])\n",
    "        flag = 1\n",
    "        break\n",
    "if(flag == 0):\n",
    "    for word in PosSyn:\n",
    "        if word in leaf_values:\n",
    "            leaf_index = leaf_values.index(word)\n",
    "            tree_location = ptree.leaf_treeposition(leaf_index)\n",
    "            print (tree_location)\n",
    "            print (ptree[tree_location])\n",
    "            flag = 2\n",
    "            break\n",
    "if(flag == 0):\n",
    "    for word in JobSyn:\n",
    "        if word in leaf_values:\n",
    "            leaf_index = leaf_values.index(word)\n",
    "            tree_location = ptree.leaf_treeposition(leaf_index)\n",
    "            print (tree_location)\n",
    "            print (ptree[tree_location])\n",
    "            flag = 3\n",
    "            break"
   ]
  },
  {
   "cell_type": "code",
   "execution_count": 62,
   "metadata": {},
   "outputs": [
    {
     "name": "stdout",
     "output_type": "stream",
     "text": [
      "[]\n"
     ]
    }
   ],
   "source": [
    "treeLoc = tree_location[:-2]\n",
    "print(treeLoc)\n",
    "\n",
    "if(treeLoc != []):\n",
    "    subtree = ptree[treeLoc]\n",
    "    print(subtree)\n",
    "\n",
    "    childNodes = subtree.leaves()\n",
    "    print(childNodes)\n",
    "\n",
    "    position = (\" \".join(childNodes))\n",
    "    print(position)"
   ]
  }
 ],
 "metadata": {
  "kernelspec": {
   "display_name": "Python 3",
   "language": "python",
   "name": "python3"
  },
  "language_info": {
   "codemirror_mode": {
    "name": "ipython",
    "version": 3
   },
   "file_extension": ".py",
   "mimetype": "text/x-python",
   "name": "python",
   "nbconvert_exporter": "python",
   "pygments_lexer": "ipython3",
   "version": "3.6.3"
  }
 },
 "nbformat": 4,
 "nbformat_minor": 2
}
