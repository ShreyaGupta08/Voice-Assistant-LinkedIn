{
 "cells": [
  {
   "cell_type": "code",
   "execution_count": 1,
   "metadata": {},
   "outputs": [],
   "source": [
    "# wget --post-data 'The quick brown fox jumped over the lazy dog.' 'localhost:9000/?properties={\"annotators\":\"tokenize,ssplit,pos\",\"outputFormat\":\"json\"}' -O -"
   ]
  },
  {
   "cell_type": "code",
   "execution_count": 2,
   "metadata": {
    "collapsed": true
   },
   "outputs": [],
   "source": [
    "# annotate [-h] [-i INPUT] [-o OUTPUT] [-f {json}]\n",
    "#                 [-a ANNOTATORS [ANNOTATORS ...]] [-s] [-v] [-m MEMORY]\n",
    "#                 [-p PROPS [PROPS ...]]"
   ]
  },
  {
   "cell_type": "code",
   "execution_count": 3,
   "metadata": {
    "collapsed": true
   },
   "outputs": [],
   "source": [
    "import os"
   ]
  },
  {
   "cell_type": "code",
   "execution_count": 4,
   "metadata": {
    "collapsed": true
   },
   "outputs": [],
   "source": [
    "os.environ[\"CORENLP_HOME\"] = '/home/shreya\\stanford-corenlp-full-2018-02-27'"
   ]
  },
  {
   "cell_type": "code",
   "execution_count": 5,
   "metadata": {
    "collapsed": true
   },
   "outputs": [],
   "source": [
    "from pycorenlp import StanfordCoreNLP"
   ]
  },
  {
   "cell_type": "code",
   "execution_count": 6,
   "metadata": {
    "collapsed": true
   },
   "outputs": [],
   "source": [
    "nlp = StanfordCoreNLP('http://localhost:9000/')"
   ]
  },
  {
   "cell_type": "code",
   "execution_count": 7,
   "metadata": {
    "collapsed": true
   },
   "outputs": [],
   "source": [
    "text = (\n",
    "  'search for machine learning job openings at LinkedIn')"
   ]
  },
  {
   "cell_type": "code",
   "execution_count": 8,
   "metadata": {},
   "outputs": [],
   "source": [
    "output = nlp.annotate( text, properties = { \n",
    "    'annotators' : 'tokenize, ssplit, pos, depparse, parse',\n",
    "    'outputFormat': 'json'})"
   ]
  },
  {
   "cell_type": "code",
   "execution_count": 9,
   "metadata": {},
   "outputs": [
    {
     "data": {
      "text/plain": [
       "dict_keys(['index', 'parse', 'basicDependencies', 'enhancedDependencies', 'enhancedPlusPlusDependencies', 'tokens'])"
      ]
     },
     "execution_count": 9,
     "metadata": {},
     "output_type": "execute_result"
    }
   ],
   "source": [
    "output['sentences'][0].keys()"
   ]
  },
  {
   "cell_type": "code",
   "execution_count": 10,
   "metadata": {},
   "outputs": [
    {
     "name": "stdout",
     "output_type": "stream",
     "text": [
      "(ROOT\n",
      "  (FRAG\n",
      "    (NP (NN search))\n",
      "    (PP (IN for)\n",
      "      (NP (NN machine) (NN learning) (NN job) (NNS openings)))\n",
      "    (PP (IN at)\n",
      "      (NP (NNP LinkedIn)))))\n"
     ]
    }
   ],
   "source": [
    "print(output['sentences'][0]['parse'])"
   ]
  },
  {
   "cell_type": "code",
   "execution_count": 11,
   "metadata": {
    "collapsed": true
   },
   "outputs": [],
   "source": [
    "# output"
   ]
  },
  {
   "cell_type": "code",
   "execution_count": 12,
   "metadata": {},
   "outputs": [
    {
     "data": {
      "text/plain": [
       "{'basicDependencies': [{'dep': 'ROOT',\n",
       "   'dependent': 1,\n",
       "   'dependentGloss': 'search',\n",
       "   'governor': 0,\n",
       "   'governorGloss': 'ROOT'},\n",
       "  {'dep': 'case',\n",
       "   'dependent': 2,\n",
       "   'dependentGloss': 'for',\n",
       "   'governor': 6,\n",
       "   'governorGloss': 'openings'},\n",
       "  {'dep': 'compound',\n",
       "   'dependent': 3,\n",
       "   'dependentGloss': 'machine',\n",
       "   'governor': 6,\n",
       "   'governorGloss': 'openings'},\n",
       "  {'dep': 'compound',\n",
       "   'dependent': 4,\n",
       "   'dependentGloss': 'learning',\n",
       "   'governor': 6,\n",
       "   'governorGloss': 'openings'},\n",
       "  {'dep': 'compound',\n",
       "   'dependent': 5,\n",
       "   'dependentGloss': 'job',\n",
       "   'governor': 6,\n",
       "   'governorGloss': 'openings'},\n",
       "  {'dep': 'nmod',\n",
       "   'dependent': 6,\n",
       "   'dependentGloss': 'openings',\n",
       "   'governor': 1,\n",
       "   'governorGloss': 'search'},\n",
       "  {'dep': 'case',\n",
       "   'dependent': 7,\n",
       "   'dependentGloss': 'at',\n",
       "   'governor': 8,\n",
       "   'governorGloss': 'LinkedIn'},\n",
       "  {'dep': 'nmod',\n",
       "   'dependent': 8,\n",
       "   'dependentGloss': 'LinkedIn',\n",
       "   'governor': 1,\n",
       "   'governorGloss': 'search'}],\n",
       " 'enhancedDependencies': [{'dep': 'ROOT',\n",
       "   'dependent': 1,\n",
       "   'dependentGloss': 'search',\n",
       "   'governor': 0,\n",
       "   'governorGloss': 'ROOT'},\n",
       "  {'dep': 'case',\n",
       "   'dependent': 2,\n",
       "   'dependentGloss': 'for',\n",
       "   'governor': 6,\n",
       "   'governorGloss': 'openings'},\n",
       "  {'dep': 'compound',\n",
       "   'dependent': 3,\n",
       "   'dependentGloss': 'machine',\n",
       "   'governor': 6,\n",
       "   'governorGloss': 'openings'},\n",
       "  {'dep': 'compound',\n",
       "   'dependent': 4,\n",
       "   'dependentGloss': 'learning',\n",
       "   'governor': 6,\n",
       "   'governorGloss': 'openings'},\n",
       "  {'dep': 'compound',\n",
       "   'dependent': 5,\n",
       "   'dependentGloss': 'job',\n",
       "   'governor': 6,\n",
       "   'governorGloss': 'openings'},\n",
       "  {'dep': 'nmod:for',\n",
       "   'dependent': 6,\n",
       "   'dependentGloss': 'openings',\n",
       "   'governor': 1,\n",
       "   'governorGloss': 'search'},\n",
       "  {'dep': 'case',\n",
       "   'dependent': 7,\n",
       "   'dependentGloss': 'at',\n",
       "   'governor': 8,\n",
       "   'governorGloss': 'LinkedIn'},\n",
       "  {'dep': 'nmod:at',\n",
       "   'dependent': 8,\n",
       "   'dependentGloss': 'LinkedIn',\n",
       "   'governor': 1,\n",
       "   'governorGloss': 'search'}],\n",
       " 'enhancedPlusPlusDependencies': [{'dep': 'ROOT',\n",
       "   'dependent': 1,\n",
       "   'dependentGloss': 'search',\n",
       "   'governor': 0,\n",
       "   'governorGloss': 'ROOT'},\n",
       "  {'dep': 'case',\n",
       "   'dependent': 2,\n",
       "   'dependentGloss': 'for',\n",
       "   'governor': 6,\n",
       "   'governorGloss': 'openings'},\n",
       "  {'dep': 'compound',\n",
       "   'dependent': 3,\n",
       "   'dependentGloss': 'machine',\n",
       "   'governor': 6,\n",
       "   'governorGloss': 'openings'},\n",
       "  {'dep': 'compound',\n",
       "   'dependent': 4,\n",
       "   'dependentGloss': 'learning',\n",
       "   'governor': 6,\n",
       "   'governorGloss': 'openings'},\n",
       "  {'dep': 'compound',\n",
       "   'dependent': 5,\n",
       "   'dependentGloss': 'job',\n",
       "   'governor': 6,\n",
       "   'governorGloss': 'openings'},\n",
       "  {'dep': 'nmod:for',\n",
       "   'dependent': 6,\n",
       "   'dependentGloss': 'openings',\n",
       "   'governor': 1,\n",
       "   'governorGloss': 'search'},\n",
       "  {'dep': 'case',\n",
       "   'dependent': 7,\n",
       "   'dependentGloss': 'at',\n",
       "   'governor': 8,\n",
       "   'governorGloss': 'LinkedIn'},\n",
       "  {'dep': 'nmod:at',\n",
       "   'dependent': 8,\n",
       "   'dependentGloss': 'LinkedIn',\n",
       "   'governor': 1,\n",
       "   'governorGloss': 'search'}],\n",
       " 'index': 0,\n",
       " 'parse': '(ROOT\\n  (FRAG\\n    (NP (NN search))\\n    (PP (IN for)\\n      (NP (NN machine) (NN learning) (NN job) (NNS openings)))\\n    (PP (IN at)\\n      (NP (NNP LinkedIn)))))',\n",
       " 'tokens': [{'after': ' ',\n",
       "   'before': '',\n",
       "   'characterOffsetBegin': 0,\n",
       "   'characterOffsetEnd': 6,\n",
       "   'index': 1,\n",
       "   'originalText': 'search',\n",
       "   'pos': 'NN',\n",
       "   'word': 'search'},\n",
       "  {'after': ' ',\n",
       "   'before': ' ',\n",
       "   'characterOffsetBegin': 7,\n",
       "   'characterOffsetEnd': 10,\n",
       "   'index': 2,\n",
       "   'originalText': 'for',\n",
       "   'pos': 'IN',\n",
       "   'word': 'for'},\n",
       "  {'after': ' ',\n",
       "   'before': ' ',\n",
       "   'characterOffsetBegin': 11,\n",
       "   'characterOffsetEnd': 18,\n",
       "   'index': 3,\n",
       "   'originalText': 'machine',\n",
       "   'pos': 'NN',\n",
       "   'word': 'machine'},\n",
       "  {'after': ' ',\n",
       "   'before': ' ',\n",
       "   'characterOffsetBegin': 19,\n",
       "   'characterOffsetEnd': 27,\n",
       "   'index': 4,\n",
       "   'originalText': 'learning',\n",
       "   'pos': 'NN',\n",
       "   'word': 'learning'},\n",
       "  {'after': ' ',\n",
       "   'before': ' ',\n",
       "   'characterOffsetBegin': 28,\n",
       "   'characterOffsetEnd': 31,\n",
       "   'index': 5,\n",
       "   'originalText': 'job',\n",
       "   'pos': 'NN',\n",
       "   'word': 'job'},\n",
       "  {'after': ' ',\n",
       "   'before': ' ',\n",
       "   'characterOffsetBegin': 32,\n",
       "   'characterOffsetEnd': 40,\n",
       "   'index': 6,\n",
       "   'originalText': 'openings',\n",
       "   'pos': 'NNS',\n",
       "   'word': 'openings'},\n",
       "  {'after': ' ',\n",
       "   'before': ' ',\n",
       "   'characterOffsetBegin': 41,\n",
       "   'characterOffsetEnd': 43,\n",
       "   'index': 7,\n",
       "   'originalText': 'at',\n",
       "   'pos': 'IN',\n",
       "   'word': 'at'},\n",
       "  {'after': '',\n",
       "   'before': ' ',\n",
       "   'characterOffsetBegin': 44,\n",
       "   'characterOffsetEnd': 52,\n",
       "   'index': 8,\n",
       "   'originalText': 'LinkedIn',\n",
       "   'pos': 'NNP',\n",
       "   'word': 'LinkedIn'}]}"
      ]
     },
     "execution_count": 12,
     "metadata": {},
     "output_type": "execute_result"
    }
   ],
   "source": [
    "output['sentences'][0]"
   ]
  }
 ],
 "metadata": {
  "kernelspec": {
   "display_name": "Python 3",
   "language": "python",
   "name": "python3"
  },
  "language_info": {
   "codemirror_mode": {
    "name": "ipython",
    "version": 3
   },
   "file_extension": ".py",
   "mimetype": "text/x-python",
   "name": "python",
   "nbconvert_exporter": "python",
   "pygments_lexer": "ipython3",
   "version": "3.6.3"
  }
 },
 "nbformat": 4,
 "nbformat_minor": 2
}
