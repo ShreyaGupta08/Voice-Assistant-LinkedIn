{
 "cells": [
  {
   "cell_type": "code",
   "execution_count": 38,
   "metadata": {
    "collapsed": true
   },
   "outputs": [],
   "source": [
    "#This notebook will identify the name of the person/job from a search query using coreNLP"
   ]
  },
  {
   "cell_type": "code",
   "execution_count": 40,
   "metadata": {
    "collapsed": true
   },
   "outputs": [],
   "source": [
    "text = \"search for Shreya Gupta\""
   ]
  },
  {
   "cell_type": "code",
   "execution_count": 5,
   "metadata": {
    "collapsed": true
   },
   "outputs": [],
   "source": [
    "# attempting NER using stanfordNERTagger and failing (it failed to detect organizations like LinkedIn etc)\n",
    "\n",
    "# import nltk\n",
    "# from nltk.tag import StanfordNERTagger\n",
    "# from nltk.tokenize import word_tokenize\n",
    "\n",
    "# st = StanfordNERTagger('/home/shreya/stanford-ner-2018-10-16/classifiers/english.all.3class.distsim.crf.ser.gz',\n",
    "#                        '/home/shreya/stanford-ner-2018-10-16/stanford-ner.jar',\n",
    "#                        encoding='utf-8')\n",
    "\n",
    "# nertag = st.tag(word_tokenize(sentence))\n",
    "# nertag\n",
    "\n",
    "# answer = \"\"\n",
    "# category = \"\" #category can be person, organisation or location\n",
    "# categories = ['PERSON', 'LOCATION', 'ORGANIZATION']\n",
    "# for word in nertag:\n",
    "#     if(word[1] in categories):\n",
    "#         answer.join(word[0])\n",
    "#         category = word[1].lower()"
   ]
  },
  {
   "cell_type": "code",
   "execution_count": 39,
   "metadata": {},
   "outputs": [],
   "source": [
    "import os\n",
    "os.environ[\"CORENLP_HOME\"] = '/home/shreya\\stanford-corenlp-full-2018-02-27'\n",
    "\n",
    "from pycorenlp import StanfordCoreNLP\n",
    "nlp = StanfordCoreNLP('http://localhost:9000/')"
   ]
  },
  {
   "cell_type": "code",
   "execution_count": 43,
   "metadata": {
    "collapsed": true
   },
   "outputs": [],
   "source": [
    "output = nlp.annotate( text, properties = { \n",
    "    'annotators' : 'tokenize, ssplit, pos, depparse, parse',\n",
    "    'outputFormat': 'json'})"
   ]
  },
  {
   "cell_type": "code",
   "execution_count": 45,
   "metadata": {},
   "outputs": [
    {
     "data": {
      "text/plain": [
       "dict_keys(['index', 'parse', 'basicDependencies', 'enhancedDependencies', 'enhancedPlusPlusDependencies', 'tokens'])"
      ]
     },
     "execution_count": 45,
     "metadata": {},
     "output_type": "execute_result"
    }
   ],
   "source": [
    "output['sentences'][0].keys()"
   ]
  },
  {
   "cell_type": "code",
   "execution_count": 46,
   "metadata": {},
   "outputs": [
    {
     "data": {
      "text/plain": [
       "[{'after': ' ',\n",
       "  'before': '',\n",
       "  'characterOffsetBegin': 0,\n",
       "  'characterOffsetEnd': 6,\n",
       "  'index': 1,\n",
       "  'originalText': 'search',\n",
       "  'pos': 'NN',\n",
       "  'word': 'search'},\n",
       " {'after': ' ',\n",
       "  'before': ' ',\n",
       "  'characterOffsetBegin': 7,\n",
       "  'characterOffsetEnd': 10,\n",
       "  'index': 2,\n",
       "  'originalText': 'for',\n",
       "  'pos': 'IN',\n",
       "  'word': 'for'},\n",
       " {'after': ' ',\n",
       "  'before': ' ',\n",
       "  'characterOffsetBegin': 11,\n",
       "  'characterOffsetEnd': 17,\n",
       "  'index': 3,\n",
       "  'originalText': 'Shreya',\n",
       "  'pos': 'NNP',\n",
       "  'word': 'Shreya'},\n",
       " {'after': '',\n",
       "  'before': ' ',\n",
       "  'characterOffsetBegin': 18,\n",
       "  'characterOffsetEnd': 23,\n",
       "  'index': 4,\n",
       "  'originalText': 'Gupta',\n",
       "  'pos': 'NNP',\n",
       "  'word': 'Gupta'}]"
      ]
     },
     "execution_count": 46,
     "metadata": {},
     "output_type": "execute_result"
    }
   ],
   "source": [
    "output['sentences'][0]['tokens']"
   ]
  },
  {
   "cell_type": "code",
   "execution_count": null,
   "metadata": {},
   "outputs": [],
   "source": [
    "tokens = output['sentences'][0]['tokens']\n",
    "lenDict = len(tokens)\n",
    "for idx, token in enumerate(tokens):\n",
    "    if(token['pos'] == 'NNP'):\n",
    "        ans = token['originalText']\n",
    "        while(idx + 1 < lenDict and tokens[idx + 1]['pos'] == 'NNP'):\n",
    "            ans = ans + \" \" + token['originalText']"
   ]
  },
  {
   "cell_type": "code",
   "execution_count": null,
   "metadata": {
    "collapsed": true
   },
   "outputs": [],
   "source": []
  }
 ],
 "metadata": {
  "kernelspec": {
   "display_name": "Python 3",
   "language": "python",
   "name": "python3"
  },
  "language_info": {
   "codemirror_mode": {
    "name": "ipython",
    "version": 3
   },
   "file_extension": ".py",
   "mimetype": "text/x-python",
   "name": "python",
   "nbconvert_exporter": "python",
   "pygments_lexer": "ipython3",
   "version": "3.6.3"
  }
 },
 "nbformat": 4,
 "nbformat_minor": 2
}
