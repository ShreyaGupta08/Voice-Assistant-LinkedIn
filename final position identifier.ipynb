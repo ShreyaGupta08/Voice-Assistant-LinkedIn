{
 "cells": [
  {
   "cell_type": "code",
   "execution_count": 1,
   "metadata": {},
   "outputs": [
    {
     "name": "stdout",
     "output_type": "stream",
     "text": [
      "Finding synonyms of the word search...\n",
      "Stemming...\n",
      "Lemmitizating...\n",
      "Resultant list: \n",
      "['find a lost item', 'find', 'find inform', 'rout up', 'explor', 'forag', 'frisk', 'hunt', 'look', 'manhunt', 'pursuit', 'quest', 'ransack', 'scour', 'search']\n",
      "\n",
      "\n",
      "Finding synonyms of the word add...\n",
      "Stemming...\n",
      "Lemmitizating...\n",
      "Resultant list: \n",
      "['add', 'comput a sum', 'add on', 'adjoin', 'button', 'butyl', 'compound', 'concaten', 'enrich', 'foot', 'fortifi', 'gild the lili', 'includ', 'inject', 'intercal']\n",
      "\n",
      "\n",
      "Tranformed string is: ['Can', 'search', 'himanshu', 'singh']\n",
      "Operation: search\n"
     ]
    }
   ],
   "source": [
    "import nltk\n",
    "from nltk.tokenize import word_tokenize\n",
    "from nltk.tree import Tree\n",
    "from nltk.stem import PorterStemmer\n",
    "\n",
    "from LinkedIn_Operation_identification import findSynonyms"
   ]
  },
  {
   "cell_type": "code",
   "execution_count": 2,
   "metadata": {},
   "outputs": [],
   "source": [
    "synJob = findSynonyms('jobs')\n",
    "JobSyn = ['job']\n",
    "for syn in synJob:\n",
    "    if syn not in JobSyn:\n",
    "        JobSyn.append(syn)\n",
    "\n",
    "# print(JobSyn)\n",
    "\n",
    "synOpen = findSynonyms('openings')\n",
    "OpenSyn = ['opening']\n",
    "for syn in synOpen:\n",
    "    if syn not in OpenSyn:\n",
    "        OpenSyn.append(syn)\n",
    "\n",
    "# print(OpenSyn)\n",
    "\n",
    "synPos = findSynonyms('position')\n",
    "PosSyn = ['position']\n",
    "for syn in synPos:\n",
    "    if syn not in PosSyn:\n",
    "        PosSyn.append(syn)\n",
    "\n",
    "# print(PosSyn)"
   ]
  },
  {
   "cell_type": "code",
   "execution_count": 3,
   "metadata": {
    "collapsed": true
   },
   "outputs": [],
   "source": [
    "import os\n",
    "os.environ[\"CORENLP_HOME\"] = '/home/shreya\\stanford-corenlp-full-2018-02-27'\n",
    "\n",
    "from pycorenlp import StanfordCoreNLP\n",
    "nlp = StanfordCoreNLP('http://localhost:9000/')"
   ]
  },
  {
   "cell_type": "code",
   "execution_count": 4,
   "metadata": {
    "collapsed": true
   },
   "outputs": [],
   "source": [
    "def stemming(text):\n",
    "    ps = PorterStemmer()\n",
    "\n",
    "    w = word_tokenize(text)\n",
    "    tempword = \"\"\n",
    "    for index, every in enumerate(w):\n",
    "        tempword = tempword + (ps.stem(every))\n",
    "        if (index != len(w) - 1):\n",
    "            tempword = tempword + \" \"\n",
    "\n",
    "    return tempword"
   ]
  },
  {
   "cell_type": "code",
   "execution_count": 5,
   "metadata": {
    "collapsed": true
   },
   "outputs": [],
   "source": [
    "text = ('search LinkedIn')\n",
    "# text = stemming(text)\n",
    "\n",
    "output = nlp.annotate( text, properties = { \n",
    "    'annotators' : 'tokenize, ssplit, pos, depparse, parse',\n",
    "    'outputFormat': 'json'})"
   ]
  },
  {
   "cell_type": "code",
   "execution_count": 6,
   "metadata": {},
   "outputs": [
    {
     "name": "stdout",
     "output_type": "stream",
     "text": [
      "(ROOT\n",
      "  (NP (NN search) (NN LinkedIn)))\n"
     ]
    }
   ],
   "source": [
    "depTreeStr = output['sentences'][0]['parse']\n",
    "print(depTreeStr)"
   ]
  },
  {
   "cell_type": "code",
   "execution_count": 7,
   "metadata": {},
   "outputs": [
    {
     "data": {
      "image/png": "[encoded data removed]",
      "text/plain": [
       "ParentedTree('ROOT', [ParentedTree('NP', [ParentedTree('NN', ['search']), ParentedTree('NN', ['LinkedIn'])])])"
      ]
     },
     "execution_count": 7,
     "metadata": {},
     "output_type": "execute_result"
    }
   ],
   "source": [
    "from nltk.tree import ParentedTree\n",
    "ptree = ParentedTree.fromstring(depTreeStr)\n",
    "ptree"
   ]
  },
  {
   "cell_type": "code",
   "execution_count": 8,
   "metadata": {},
   "outputs": [],
   "source": [
    "leaf_values = ptree.leaves()\n",
    "\n",
    "tree_location = []\n",
    "flag = 0\n",
    "for word in OpenSyn:\n",
    "    if word in leaf_values:\n",
    "        leaf_index = leaf_values.index(word)\n",
    "        tree_location = ptree.leaf_treeposition(leaf_index)\n",
    "        print (tree_location)\n",
    "        print (ptree[tree_location])\n",
    "        flag = 1\n",
    "        break\n",
    "if(flag == 0):\n",
    "    for word in PosSyn:\n",
    "        if word in leaf_values:\n",
    "            leaf_index = leaf_values.index(word)\n",
    "            tree_location = ptree.leaf_treeposition(leaf_index)\n",
    "            print (tree_location)\n",
    "            print (ptree[tree_location])\n",
    "            flag = 2\n",
    "            break\n",
    "if(flag == 0):\n",
    "    for word in JobSyn:\n",
    "        if word in leaf_values:\n",
    "            leaf_index = leaf_values.index(word)\n",
    "            tree_location = ptree.leaf_treeposition(leaf_index)\n",
    "            print (tree_location)\n",
    "            print (ptree[tree_location])\n",
    "            flag = 3\n",
    "            break"
   ]
  },
  {
   "cell_type": "code",
   "execution_count": 14,
   "metadata": {},
   "outputs": [
    {
     "name": "stdout",
     "output_type": "stream",
     "text": [
      "[]\n"
     ]
    },
    {
     "data": {
      "image/png": "[encoded data removed]",
      "text/plain": [
       "ParentedTree('ROOT', [ParentedTree('NP', [ParentedTree('NN', ['search']), ParentedTree('NN', ['LinkedIn'])])])"
      ]
     },
     "execution_count": 14,
     "metadata": {},
     "output_type": "execute_result"
    }
   ],
   "source": [
    "treeLoc = tree_location[:-2]\n",
    "print(treeLoc)\n",
    "\n",
    "subtree = ptree[treeLoc]\n",
    "position = \"\"\n",
    "if(treeLoc != []):\n",
    "\n",
    "    childNodes = subtree.leaves()\n",
    "    print(childNodes)\n",
    "\n",
    "    position = (\" \".join(childNodes))\n",
    "    print(position)\n",
    "    \n",
    "\n",
    "subtree"
   ]
  },
  {
   "cell_type": "code",
   "execution_count": 15,
   "metadata": {},
   "outputs": [
    {
     "data": {
      "text/plain": [
       "''"
      ]
     },
     "execution_count": 15,
     "metadata": {},
     "output_type": "execute_result"
    }
   ],
   "source": [
    "position"
   ]
  },
  {
   "cell_type": "code",
   "execution_count": null,
   "metadata": {
    "collapsed": true
   },
   "outputs": [],
   "source": []
  }
 ],
 "metadata": {
  "kernelspec": {
   "display_name": "Python 3",
   "language": "python",
   "name": "python3"
  },
  "language_info": {
   "codemirror_mode": {
    "name": "ipython",
    "version": 3
   },
   "file_extension": ".py",
   "mimetype": "text/x-python",
   "name": "python",
   "nbconvert_exporter": "python",
   "pygments_lexer": "ipython3",
   "version": "3.6.3"
  }
 },
 "nbformat": 4,
 "nbformat_minor": 2
}
